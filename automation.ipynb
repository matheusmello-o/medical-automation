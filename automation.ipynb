{
 "cells": [
  {
   "cell_type": "markdown",
   "metadata": {},
   "source": [
    "# <font color = 'gold'> Steps to go on in this part of the automation: </font>\n",
    "\n",
    "<font color = 'teal'>\n",
    "\n",
    "- Filter the itens that were used in the last 24 months\n",
    "- Filter all the itens that the status is \"ativo\"\n",
    "- Make sure that duplicated itens is no more\n",
    "\n",
    "</font>"
   ]
  },
  {
   "cell_type": "code",
   "execution_count": 49,
   "metadata": {},
   "outputs": [],
   "source": [
    "import pandas as pd\n",
    "\n",
    "def filter_itens(df, column_movimentation, column_status):\n",
    "    # applying the first and second step in the header\n",
    "    assert (df[column_movimentation].nunique() == 2) and (df[column_status].nunique() == 2)\n",
    "\n",
    "    df[column_movimentation] = df[column_movimentation].str.upper()\n",
    "    df[column_status] = df[column_status].str.upper()\n",
    "\n",
    "    f = (df[column_movimentation] == 'SIM') & (df[column_status] == 'ATIVO')\n",
    "\n",
    "    return df.loc[f]\n",
    "\n",
    "def removing_duplicates(df, column_to_clean):\n",
    "    values = df.groupby(column_to_clean).cumcount() + 1\n",
    "    \n",
    "    df['row_number'] = values\n",
    "\n",
    "    return df.loc[df.row_number == 1]\n",
    "\n",
    "\n",
    "clean_system_legacy = pd.read_excel(io = 'files/itens_to_clean.xlsx', sheet_name=0)\n",
    "\n",
    "\n",
    "clean_system_legacy_v2 = filter_itens(clean_system_legacy, column_movimentation = 'movimentacao_24', column_status = 'situacao_produto')\n",
    "clean_system_legacy_v2 = removing_duplicates(clean_system_legacy_v2, column_to_clean = 'desc_cadastro')"
   ]
  }
 ],
 "metadata": {
  "kernelspec": {
   "display_name": "data-science",
   "language": "python",
   "name": "python3"
  },
  "language_info": {
   "codemirror_mode": {
    "name": "ipython",
    "version": 3
   },
   "file_extension": ".py",
   "mimetype": "text/x-python",
   "name": "python",
   "nbconvert_exporter": "python",
   "pygments_lexer": "ipython3",
   "version": "3.9.12"
  }
 },
 "nbformat": 4,
 "nbformat_minor": 2
}
